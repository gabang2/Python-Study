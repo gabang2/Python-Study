{
 "cells": [
  {
   "cell_type": "markdown",
   "id": "2154e448",
   "metadata": {},
   "source": [
    "# 클래스 - 1"
   ]
  },
  {
   "cell_type": "code",
   "execution_count": 4,
   "id": "9ba894f7",
   "metadata": {},
   "outputs": [
    {
     "name": "stdout",
     "output_type": "stream",
     "text": [
      "SN060\n",
      "SN060\n"
     ]
    }
   ],
   "source": [
    "'''1. 선언하는 방법'''\n",
    "class Flight:\n",
    "    def number(self):\n",
    "        return 'SN060'\n",
    "    pass\n",
    "\n",
    "f = Flight()\n",
    "print(f.number())\n",
    "print(Flight.number(f))"
   ]
  },
  {
   "cell_type": "code",
   "execution_count": 20,
   "id": "21057584",
   "metadata": {},
   "outputs": [],
   "source": [
    "'''2. 생성자와 초기화자'''\n",
    "class Flight:\n",
    "    def __init__(self, name, population, capital):\n",
    "        self.name = name\n",
    "        self.population = population\n",
    "        self.capital = capital\n",
    "    def show(self):\n",
    "        print('국가의 이름은 {}입니다. 국가의 인구는 {}입니다. 국가의 수도는 {}입니다.'.format(self.name, self.population, self.capital))\n",
    "    \n",
    "    def show(self, abc):\n",
    "        print('abc: {}'.format(abc))\n",
    "        \n",
    "f = Flight('대한민국', '5000만', '서울')\n",
    "f.show()"
   ]
  },
  {
   "cell_type": "markdown",
   "id": "adabd6f2",
   "metadata": {},
   "source": [
    "# 클래스 - 2"
   ]
  },
  {
   "cell_type": "code",
   "execution_count": 28,
   "id": "9a7f1bd5",
   "metadata": {},
   "outputs": [
    {
     "name": "stdout",
     "output_type": "stream",
     "text": [
      "[]\n",
      "[5]\n"
     ]
    }
   ],
   "source": [
    "'''클래스 속성과 인스턴스 속성'''\n",
    "class Flight:\n",
    "    class_attr = []\n",
    "    \n",
    "    def __init__(self):\n",
    "        self.class_attr = []\n",
    "    def add_instance_attr(self, number):\n",
    "        self.class_attr.append(number)\n",
    "    def add_class_attr(self, number):\n",
    "        Flight.class_attr.append(number)\n",
    "        \n",
    "f = Flight()\n",
    "f.add_instance_attr(5)\n",
    "print(Flight.class_attr) #[]\n",
    "print(f.class_attr) #[5]"
   ]
  },
  {
   "cell_type": "code",
   "execution_count": 31,
   "id": "64d6ea7c",
   "metadata": {
    "scrolled": true
   },
   "outputs": [
    {
     "ename": "AttributeError",
     "evalue": "type object 'Flight' has no attribute '__private_attr'",
     "output_type": "error",
     "traceback": [
      "\u001b[1;31m---------------------------------------------------------------------------\u001b[0m",
      "\u001b[1;31mAttributeError\u001b[0m                            Traceback (most recent call last)",
      "Input \u001b[1;32mIn [31]\u001b[0m, in \u001b[0;36m<cell line: 4>\u001b[1;34m()\u001b[0m\n\u001b[0;32m      2\u001b[0m \u001b[38;5;28;01mclass\u001b[39;00m \u001b[38;5;21;01mFlight\u001b[39;00m:\n\u001b[0;32m      3\u001b[0m     __private_attr \u001b[38;5;241m=\u001b[39m \u001b[38;5;241m5\u001b[39m\n\u001b[1;32m----> 4\u001b[0m \u001b[43mFlight\u001b[49m\u001b[38;5;241;43m.\u001b[39;49m\u001b[43m__private_attr\u001b[49m\n",
      "\u001b[1;31mAttributeError\u001b[0m: type object 'Flight' has no attribute '__private_attr'"
     ]
    }
   ],
   "source": [
    "'''비공개 속성'''\n",
    "class Flight:\n",
    "    __private_attr = 5\n",
    "Flight.__private_attr"
   ]
  },
  {
   "cell_type": "markdown",
   "id": "4f2f7102",
   "metadata": {},
   "source": [
    "# 클래스 - 3"
   ]
  },
  {
   "cell_type": "code",
   "execution_count": 58,
   "id": "55dea215",
   "metadata": {},
   "outputs": [
    {
     "name": "stdout",
     "output_type": "stream",
     "text": [
      "국가 클래스의 메소드 입니다.\n",
      "\n",
      "        국가의 이름은대한민국입니다.\n",
      "        국가의 인구는 5000만명 입니다.\n",
      "        국가의 수도는 서울 입니다.\n",
      "        \n"
     ]
    }
   ],
   "source": [
    "'''선언 방법'''\n",
    "class Country:\n",
    "    '''super class'''\n",
    "    name = '국가명'\n",
    "    population = '인구'\n",
    "    capital = '수도'\n",
    "    \n",
    "    def show(self):\n",
    "        print('국가 클래스의 메소드 입니다.')\n",
    "        \n",
    "class Korea(Country):\n",
    "    def __init__(self, name, population, capital):\n",
    "        self.name = name\n",
    "        self.population = population\n",
    "        self.capital = capital\n",
    "        \n",
    "    def show(self):\n",
    "        super().show()\n",
    "        print('''\n",
    "        국가의 이름은{}입니다.\n",
    "        국가의 인구는 {} 입니다.\n",
    "        국가의 수도는 {} 입니다.\n",
    "        '''.format(self.name, self.population, self.capital)\n",
    "             )\n",
    "        \n",
    "k = Korea('대한민국', '5000만명', '서울')\n",
    "k.show()"
   ]
  },
  {
   "cell_type": "code",
   "execution_count": 63,
   "id": "c684934c",
   "metadata": {},
   "outputs": [
    {
     "name": "stdout",
     "output_type": "stream",
     "text": [
      "[]\n",
      "[2]\n"
     ]
    }
   ],
   "source": [
    "'''다중 상속'''\n",
    "class Country:\n",
    "    province_list2 = [2]\n",
    "    pass\n",
    "class Province:\n",
    "    province_list = []\n",
    "class Korea(Country, Province):\n",
    "    pass\n",
    "k = Korea\n",
    "print(k.province_list)\n",
    "print(k.province_list2)"
   ]
  },
  {
   "cell_type": "markdown",
   "id": "dabc374c",
   "metadata": {},
   "source": [
    "# 클래스 - 4"
   ]
  },
  {
   "cell_type": "code",
   "execution_count": 68,
   "id": "f05fcd06",
   "metadata": {},
   "outputs": [
    {
     "data": {
      "text/plain": [
       "8"
      ]
     },
     "execution_count": 68,
     "metadata": {},
     "output_type": "execute_result"
    }
   ],
   "source": [
    "'''정적 메소드'''\n",
    "class CustomClass:\n",
    "    # instancemethod\n",
    "    def add_instance_method(self, a, b):\n",
    "        return a+b\n",
    "    \n",
    "    @classmethod\n",
    "    def add_class_method(cls, a, b):\n",
    "        return a+b\n",
    "    \n",
    "    @staticmethod\n",
    "    def add_static_method(a, b):\n",
    "        return a+b\n",
    "\n",
    "CustomClass.add_instance_method(None, 3, 5)\n",
    "CustomClass.add_class_method(3, 5)\n",
    "CustomClass.add_static_method(3, 5)"
   ]
  },
  {
   "cell_type": "markdown",
   "id": "1edb65b1",
   "metadata": {},
   "source": [
    "# 클래스 - 5"
   ]
  },
  {
   "cell_type": "code",
   "execution_count": 83,
   "id": "f504131a",
   "metadata": {},
   "outputs": [
    {
     "name": "stdout",
     "output_type": "stream",
     "text": [
      "국가의 이름은 : 대한민국\n",
      "국가의 수도는?\n",
      "서울\n"
     ]
    }
   ],
   "source": [
    "'''추상클래스'''\n",
    "from abc import *\n",
    "\n",
    "class AbstractCountry(metaclass=ABCMeta):\n",
    "    name = '국가명'\n",
    "    population = '인구'\n",
    "    capital = '수도'\n",
    "    \n",
    "    def show(self):\n",
    "        print('국가 클래스의 메소드입니다.')\n",
    "        \n",
    "    @abstractmethod\n",
    "    def show_capital(self):\n",
    "        print('국가의 수도는?')\n",
    "    \n",
    "class Korea(AbstractCountry):\n",
    "    def __init__(self, name, population, capital):\n",
    "        self.name = name\n",
    "        self.population = population\n",
    "        self.capital = capital\n",
    "        \n",
    "    def show_name(self):\n",
    "        print('국가의 이름은 :', self.name)\n",
    "        \n",
    "    def show_capital(self):\n",
    "        super().show_capital()\n",
    "        print(self.capital)\n",
    "a = Korea('대한민국', '5000만명', '서울')\n",
    "a.show_name()\n",
    "a.show_capital()"
   ]
  },
  {
   "cell_type": "code",
   "execution_count": 1,
   "id": "c00d67c5",
   "metadata": {},
   "outputs": [
    {
     "name": "stdout",
     "output_type": "stream",
     "text": [
      "3\n",
      "7\n"
     ]
    }
   ],
   "source": [
    "# 계산기 코드 구현하기\n",
    "result = 0\n",
    "\n",
    "def add(num):\n",
    "    global result\n",
    "    result += num\n",
    "    return result\n",
    "\n",
    "print(add(3))\n",
    "print(add(4))"
   ]
  },
  {
   "cell_type": "code",
   "execution_count": 4,
   "id": "8060f62c",
   "metadata": {},
   "outputs": [
    {
     "name": "stdout",
     "output_type": "stream",
     "text": [
      "3\n",
      "3\n",
      "4\n",
      "2\n"
     ]
    }
   ],
   "source": [
    "class Calculator:\n",
    "    def __init__(self):\n",
    "        self.result = 0\n",
    "\n",
    "    def add(self, num):\n",
    "        self.result += num\n",
    "        return self.result\n",
    "\n",
    "    def sub(self, num):\n",
    "        self.result -= num\n",
    "        return self.result\n",
    "\n",
    "cal1 = Calculator()\n",
    "cal2 = Calculator()\n",
    "\n",
    "print(cal1.add(3))\n",
    "print(cal2.add(3))\n",
    "print(cal1.add(1))\n",
    "print(cal2.sub(1))"
   ]
  },
  {
   "cell_type": "code",
   "execution_count": 13,
   "id": "f5ec9ca6",
   "metadata": {},
   "outputs": [],
   "source": [
    "class FourCal:\n",
    "    def __init__(self):\n",
    "        self.result = 0\n",
    "\n",
    "    def setdata(self, first, second):\n",
    "        self.first = first\n",
    "        self.second = second\n",
    "\n",
    "    def add(self):\n",
    "        self.result = self.first + self.second\n",
    "        return self.result\n",
    "\n",
    "    def mul(self):\n",
    "        self.result = self.first * self.second\n",
    "        return self.result\n",
    "\n",
    "    def sub(self):\n",
    "        self.result = self.first - self.second\n",
    "        return self.result\n",
    "\n",
    "    def div(self):\n",
    "        self.result = self.first / self.second\n",
    "        return self.result"
   ]
  },
  {
   "cell_type": "code",
   "execution_count": 18,
   "id": "fccee37c",
   "metadata": {},
   "outputs": [
    {
     "name": "stdout",
     "output_type": "stream",
     "text": [
      "6 11\n",
      "8 24\n",
      "2 -5\n",
      "2.0 0.375\n"
     ]
    }
   ],
   "source": [
    "a = FourCal()\n",
    "b = FourCal()\n",
    "\n",
    "a.setdata(4, 2)\n",
    "b.setdata(3, 8)\n",
    "\n",
    "print(a.add(), b.add())\n",
    "print(a.mul(), b.mul())\n",
    "print(a.sub(), b.sub())\n",
    "print(a.div(), b.div())"
   ]
  },
  {
   "cell_type": "code",
   "execution_count": 23,
   "id": "2f2abe72",
   "metadata": {},
   "outputs": [],
   "source": [
    "# 생성자 적용하기\n",
    "class FourCal:\n",
    "    def __init__(self, first, second):\n",
    "        self.result = 0\n",
    "        self.first = first\n",
    "        self.second = second\n",
    "\n",
    "    def setdata(self, first, second):\n",
    "        self.first = first\n",
    "        self.second = second\n",
    "\n",
    "    def add(self):\n",
    "        self.result = self.first + self.second\n",
    "        return self.result\n",
    "\n",
    "    def mul(self):\n",
    "        self.result = self.first * self.second\n",
    "        return self.result\n",
    "\n",
    "    def sub(self):\n",
    "        self.result = self.first - self.second\n",
    "        return self.result\n",
    "\n",
    "    def div(self):\n",
    "        self.result = self.first / self.second\n",
    "        return self.result"
   ]
  },
  {
   "cell_type": "code",
   "execution_count": 24,
   "id": "6c63b8ee",
   "metadata": {},
   "outputs": [
    {
     "name": "stdout",
     "output_type": "stream",
     "text": [
      "4 2 0\n"
     ]
    }
   ],
   "source": [
    "# a = FourCal() <- 에러 발생\n",
    "a = FourCal(4, 2)\n",
    "print(a.first, a.second, a.result)"
   ]
  },
  {
   "cell_type": "code",
   "execution_count": 26,
   "id": "cc04fa4c",
   "metadata": {},
   "outputs": [
    {
     "name": "stdout",
     "output_type": "stream",
     "text": [
      "6 8 2 2.0\n"
     ]
    }
   ],
   "source": [
    "'''클래스와 상속'''\n",
    "class MoreFourCal(FourCal):\n",
    "    pass\n",
    "\n",
    "a = MoreFourCal(4, 2)\n",
    "print(a.add(), a.mul(), a.sub(), a.div())"
   ]
  },
  {
   "cell_type": "code",
   "execution_count": null,
   "id": "12807d41",
   "metadata": {},
   "outputs": [],
   "source": [
    "class MoreFourCal(FourCal):\n",
    "    def pow(self):\n",
    "        result = self.first ** self.second\n",
    "        return self.result\n",
    "    "
   ]
  },
  {
   "cell_type": "code",
   "execution_count": 32,
   "metadata": {},
   "outputs": [
    {
     "ename": "AttributeError",
     "evalue": "'DataFrame' object has no attribute 'col'",
     "output_type": "error",
     "traceback": [
      "\u001b[1;31m---------------------------------------------------------------------------\u001b[0m",
      "\u001b[1;31mAttributeError\u001b[0m                            Traceback (most recent call last)",
      "Cell \u001b[1;32mIn [32], line 15\u001b[0m\n\u001b[0;32m     12\u001b[0m df \u001b[38;5;241m=\u001b[39m pd\u001b[38;5;241m.\u001b[39mDataFrame(csv_list)\n\u001b[0;32m     13\u001b[0m df\u001b[38;5;241m.\u001b[39mhead()\n\u001b[1;32m---> 15\u001b[0m hello[[\u001b[38;5;124m'\u001b[39m\u001b[38;5;124m1\u001b[39m\u001b[38;5;124m'\u001b[39m, \u001b[38;5;124m'\u001b[39m\u001b[38;5;124m2\u001b[39m\u001b[38;5;124m'\u001b[39m, \u001b[38;5;124m'\u001b[39m\u001b[38;5;124m3\u001b[39m\u001b[38;5;124m'\u001b[39m, \u001b[38;5;124m'\u001b[39m\u001b[38;5;124m4\u001b[39m\u001b[38;5;124m'\u001b[39m, \u001b[38;5;124m'\u001b[39m\u001b[38;5;124m5\u001b[39m\u001b[38;5;124m'\u001b[39m, \u001b[38;5;124m'\u001b[39m\u001b[38;5;124m6\u001b[39m\u001b[38;5;124m'\u001b[39m, \u001b[38;5;124m'\u001b[39m\u001b[38;5;124m7\u001b[39m\u001b[38;5;124m'\u001b[39m, \u001b[38;5;124m'\u001b[39m\u001b[38;5;124m8\u001b[39m\u001b[38;5;124m'\u001b[39m, \u001b[38;5;124m'\u001b[39m\u001b[38;5;124m9\u001b[39m\u001b[38;5;124m'\u001b[39m, \u001b[38;5;124m'\u001b[39m\u001b[38;5;124m10\u001b[39m\u001b[38;5;124m'\u001b[39m, \u001b[38;5;124m'\u001b[39m\u001b[38;5;124m11\u001b[39m\u001b[38;5;124m'\u001b[39m, \u001b[38;5;124m'\u001b[39m\u001b[38;5;124m12\u001b[39m\u001b[38;5;124m'\u001b[39m]] \u001b[38;5;241m=\u001b[39m pd\u001b[38;5;241m.\u001b[39mDataFrame(df\u001b[38;5;241m.\u001b[39mcol\u001b[38;5;241m.\u001b[39mstr\u001b[38;5;241m.\u001b[39msplit(\u001b[38;5;124m'\u001b[39m\u001b[38;5;124m|\u001b[39m\u001b[38;5;124m'\u001b[39m)\u001b[38;5;241m.\u001b[39mtolist())\n",
      "File \u001b[1;32mc:\\Users\\offbe\\AppData\\Local\\Programs\\Python\\Python310\\lib\\site-packages\\pandas\\core\\generic.py:5575\u001b[0m, in \u001b[0;36mNDFrame.__getattr__\u001b[1;34m(self, name)\u001b[0m\n\u001b[0;32m   5568\u001b[0m \u001b[39mif\u001b[39;00m (\n\u001b[0;32m   5569\u001b[0m     name \u001b[39mnot\u001b[39;00m \u001b[39min\u001b[39;00m \u001b[39mself\u001b[39m\u001b[39m.\u001b[39m_internal_names_set\n\u001b[0;32m   5570\u001b[0m     \u001b[39mand\u001b[39;00m name \u001b[39mnot\u001b[39;00m \u001b[39min\u001b[39;00m \u001b[39mself\u001b[39m\u001b[39m.\u001b[39m_metadata\n\u001b[0;32m   5571\u001b[0m     \u001b[39mand\u001b[39;00m name \u001b[39mnot\u001b[39;00m \u001b[39min\u001b[39;00m \u001b[39mself\u001b[39m\u001b[39m.\u001b[39m_accessors\n\u001b[0;32m   5572\u001b[0m     \u001b[39mand\u001b[39;00m \u001b[39mself\u001b[39m\u001b[39m.\u001b[39m_info_axis\u001b[39m.\u001b[39m_can_hold_identifiers_and_holds_name(name)\n\u001b[0;32m   5573\u001b[0m ):\n\u001b[0;32m   5574\u001b[0m     \u001b[39mreturn\u001b[39;00m \u001b[39mself\u001b[39m[name]\n\u001b[1;32m-> 5575\u001b[0m \u001b[39mreturn\u001b[39;00m \u001b[39mobject\u001b[39;49m\u001b[39m.\u001b[39;49m\u001b[39m__getattribute__\u001b[39;49m(\u001b[39mself\u001b[39;49m, name)\n",
      "\u001b[1;31mAttributeError\u001b[0m: 'DataFrame' object has no attribute 'col'"
     ]
    }
   ],
   "source": [
    "import csv\n",
    "import pandas as pd\n",
    "\n",
    "f = open('./sampledata.csv', encoding = 'utf-8')\n",
    "reader = csv.reader(f)\n",
    "csv_list = []\n",
    "\n",
    "for i in reader:\n",
    "    csv_list.append(i)\n",
    "\n",
    "f.close()\n",
    "df = pd.DataFrame(csv_list)\n",
    "df.head()\n",
    "\n",
    "hello[['1', '2', '3', '4', '5', '6', '7', '8', '9', '10', '11', '12']] = pd.DataFrame(df.col.str.split('|').tolist())"
   ]
  },
  {
   "cell_type": "code",
   "execution_count": 58,
   "id": "dcd44726",
   "metadata": {},
   "outputs": [
    {
     "data": {
      "text/html": [
       "<div>\n",
       "<style scoped>\n",
       "    .dataframe tbody tr th:only-of-type {\n",
       "        vertical-align: middle;\n",
       "    }\n",
       "\n",
       "    .dataframe tbody tr th {\n",
       "        vertical-align: top;\n",
       "    }\n",
       "\n",
       "    .dataframe thead th {\n",
       "        text-align: right;\n",
       "    }\n",
       "</style>\n",
       "<table border=\"1\" class=\"dataframe\">\n",
       "  <thead>\n",
       "    <tr style=\"text-align: right;\">\n",
       "      <th></th>\n",
       "      <th>case_id|\"activity\"|\"ts\"|\"factoryname\"|\"branchname\"|\"role\"|\"originator\"|\"personcost\"|\"persontime\"|\"equipcode\"|\"repaircategory\"|\"repairtype\"</th>\n",
       "    </tr>\n",
       "  </thead>\n",
       "  <tbody>\n",
       "    <tr>\n",
       "      <th>0</th>\n",
       "      <td>1|\"5_설비수리결과등록\"|2021-01-01 12:56:00.000|경상공장|창원...</td>\n",
       "    </tr>\n",
       "    <tr>\n",
       "      <th>1</th>\n",
       "      <td>2|\"5_설비수리결과등록\"|2021-01-02 09:26:00.000|경상공장|창원...</td>\n",
       "    </tr>\n",
       "    <tr>\n",
       "      <th>2</th>\n",
       "      <td>3|\"5_설비수리결과등록\"|2021-01-02 09:44:00.000|경상공장|창원...</td>\n",
       "    </tr>\n",
       "    <tr>\n",
       "      <th>3</th>\n",
       "      <td>4|\"5_설비수리결과등록\"|2021-01-02 09:45:00.000|경상공장|창원...</td>\n",
       "    </tr>\n",
       "    <tr>\n",
       "      <th>4</th>\n",
       "      <td>5|\"5_설비수리결과등록\"|2021-01-02 09:46:00.000|경상공장|창원...</td>\n",
       "    </tr>\n",
       "  </tbody>\n",
       "</table>\n",
       "</div>"
      ],
      "text/plain": [
       "  case_id|\"activity\"|\"ts\"|\"factoryname\"|\"branchname\"|\"role\"|\"originator\"|\"personcost\"|\"persontime\"|\"equipcode\"|\"repaircategory\"|\"repairtype\"\n",
       "0  1|\"5_설비수리결과등록\"|2021-01-01 12:56:00.000|경상공장|창원...                                                                                        \n",
       "1  2|\"5_설비수리결과등록\"|2021-01-02 09:26:00.000|경상공장|창원...                                                                                        \n",
       "2  3|\"5_설비수리결과등록\"|2021-01-02 09:44:00.000|경상공장|창원...                                                                                        \n",
       "3  4|\"5_설비수리결과등록\"|2021-01-02 09:45:00.000|경상공장|창원...                                                                                        \n",
       "4  5|\"5_설비수리결과등록\"|2021-01-02 09:46:00.000|경상공장|창원...                                                                                        "
      ]
     },
     "execution_count": 58,
     "metadata": {},
     "output_type": "execute_result"
    }
   ],
   "source": [
    "import pandas as pd\n",
    "df = pd.read_csv('./samples.csv', sep='|', encoding='euc-kr')\n",
    "df.head()"
   ]
  }
 ],
 "metadata": {
  "kernelspec": {
   "display_name": "Python 3.10.5 64-bit",
   "language": "python",
   "name": "python3"
  },
  "language_info": {
   "codemirror_mode": {
    "name": "ipython",
    "version": 3
   },
   "file_extension": ".py",
   "mimetype": "text/x-python",
   "name": "python",
   "nbconvert_exporter": "python",
   "pygments_lexer": "ipython3",
   "version": "3.10.5"
  },
  "vscode": {
   "interpreter": {
    "hash": "6e7d089744e7a00d8d3e84574aea7527b460c1e66001f10abf1cfb4e3cdd62bb"
   }
  }
 },
 "nbformat": 4,
 "nbformat_minor": 5
}
