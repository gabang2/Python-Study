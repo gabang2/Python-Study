{
 "cells": [
  {
   "cell_type": "markdown",
   "id": "2154e448",
   "metadata": {},
   "source": [
    "# 클래스 - 1"
   ]
  },
  {
   "cell_type": "code",
   "execution_count": 4,
   "id": "9ba894f7",
   "metadata": {},
   "outputs": [
    {
     "name": "stdout",
     "output_type": "stream",
     "text": [
      "SN060\n",
      "SN060\n"
     ]
    }
   ],
   "source": [
    "'''1. 선언하는 방법'''\n",
    "class Flight:\n",
    "    def number(self):\n",
    "        return 'SN060'\n",
    "    pass\n",
    "\n",
    "f = Flight()\n",
    "print(f.number())\n",
    "print(Flight.number(f))"
   ]
  },
  {
   "cell_type": "code",
   "execution_count": 20,
   "id": "21057584",
   "metadata": {},
   "outputs": [],
   "source": [
    "'''2. 생성자와 초기화자'''\n",
    "class Flight:\n",
    "    def __init__(self, name, population, capital):\n",
    "        self.name = name\n",
    "        self.population = population\n",
    "        self.capital = capital\n",
    "    def show(self):\n",
    "        print('국가의 이름은 {}입니다. 국가의 인구는 {}입니다. 국가의 수도는 {}입니다.'.format(self.name, self.population, self.capital))\n",
    "    \n",
    "    def show(self, abc):\n",
    "        print('abc: {}'.format(abc))\n",
    "        \n",
    "f = Flight('대한민국', '5000만', '서울')\n",
    "f.show()"
   ]
  },
  {
   "cell_type": "markdown",
   "id": "adabd6f2",
   "metadata": {},
   "source": [
    "# 클래스 - 2"
   ]
  },
  {
   "cell_type": "code",
   "execution_count": 28,
   "id": "9a7f1bd5",
   "metadata": {},
   "outputs": [
    {
     "name": "stdout",
     "output_type": "stream",
     "text": [
      "[]\n",
      "[5]\n"
     ]
    }
   ],
   "source": [
    "'''클래스 속성과 인스턴스 속성'''\n",
    "class Flight:\n",
    "    class_attr = []\n",
    "    \n",
    "    def __init__(self):\n",
    "        self.class_attr = []\n",
    "    def add_instance_attr(self, number):\n",
    "        self.class_attr.append(number)\n",
    "    def add_class_attr(self, number):\n",
    "        Flight.class_attr.append(number)\n",
    "        \n",
    "f = Flight()\n",
    "f.add_instance_attr(5)\n",
    "print(Flight.class_attr) #[]\n",
    "print(f.class_attr) #[5]"
   ]
  },
  {
   "cell_type": "code",
   "execution_count": 31,
   "id": "64d6ea7c",
   "metadata": {
    "scrolled": true
   },
   "outputs": [
    {
     "ename": "AttributeError",
     "evalue": "type object 'Flight' has no attribute '__private_attr'",
     "output_type": "error",
     "traceback": [
      "\u001b[1;31m---------------------------------------------------------------------------\u001b[0m",
      "\u001b[1;31mAttributeError\u001b[0m                            Traceback (most recent call last)",
      "Input \u001b[1;32mIn [31]\u001b[0m, in \u001b[0;36m<cell line: 4>\u001b[1;34m()\u001b[0m\n\u001b[0;32m      2\u001b[0m \u001b[38;5;28;01mclass\u001b[39;00m \u001b[38;5;21;01mFlight\u001b[39;00m:\n\u001b[0;32m      3\u001b[0m     __private_attr \u001b[38;5;241m=\u001b[39m \u001b[38;5;241m5\u001b[39m\n\u001b[1;32m----> 4\u001b[0m \u001b[43mFlight\u001b[49m\u001b[38;5;241;43m.\u001b[39;49m\u001b[43m__private_attr\u001b[49m\n",
      "\u001b[1;31mAttributeError\u001b[0m: type object 'Flight' has no attribute '__private_attr'"
     ]
    }
   ],
   "source": [
    "'''비공개 속성'''\n",
    "class Flight:\n",
    "    __private_attr = 5\n",
    "Flight.__private_attr"
   ]
  },
  {
   "cell_type": "markdown",
   "id": "4f2f7102",
   "metadata": {},
   "source": [
    "# 클래스 - 3"
   ]
  },
  {
   "cell_type": "code",
   "execution_count": 58,
   "id": "55dea215",
   "metadata": {},
   "outputs": [
    {
     "name": "stdout",
     "output_type": "stream",
     "text": [
      "국가 클래스의 메소드 입니다.\n",
      "\n",
      "        국가의 이름은대한민국입니다.\n",
      "        국가의 인구는 5000만명 입니다.\n",
      "        국가의 수도는 서울 입니다.\n",
      "        \n"
     ]
    }
   ],
   "source": [
    "'''선언 방법'''\n",
    "class Country:\n",
    "    '''super class'''\n",
    "    name = '국가명'\n",
    "    population = '인구'\n",
    "    capital = '수도'\n",
    "    \n",
    "    def show(self):\n",
    "        print('국가 클래스의 메소드 입니다.')\n",
    "        \n",
    "class Korea(Country):\n",
    "    def __init__(self, name, population, capital):\n",
    "        self.name = name\n",
    "        self.population = population\n",
    "        self.capital = capital\n",
    "        \n",
    "    def show(self):\n",
    "        super().show()\n",
    "        print('''\n",
    "        국가의 이름은{}입니다.\n",
    "        국가의 인구는 {} 입니다.\n",
    "        국가의 수도는 {} 입니다.\n",
    "        '''.format(self.name, self.population, self.capital)\n",
    "             )\n",
    "        \n",
    "k = Korea('대한민국', '5000만명', '서울')\n",
    "k.show()"
   ]
  },
  {
   "cell_type": "code",
   "execution_count": 63,
   "id": "c684934c",
   "metadata": {},
   "outputs": [
    {
     "name": "stdout",
     "output_type": "stream",
     "text": [
      "[]\n",
      "[2]\n"
     ]
    }
   ],
   "source": [
    "'''다중 상속'''\n",
    "class Country:\n",
    "    province_list2 = [2]\n",
    "    pass\n",
    "class Province:\n",
    "    province_list = []\n",
    "class Korea(Country, Province):\n",
    "    pass\n",
    "k = Korea\n",
    "print(k.province_list)\n",
    "print(k.province_list2)"
   ]
  },
  {
   "cell_type": "markdown",
   "id": "dabc374c",
   "metadata": {},
   "source": [
    "# 클래스 - 4"
   ]
  },
  {
   "cell_type": "code",
   "execution_count": 68,
   "id": "f05fcd06",
   "metadata": {},
   "outputs": [
    {
     "data": {
      "text/plain": [
       "8"
      ]
     },
     "execution_count": 68,
     "metadata": {},
     "output_type": "execute_result"
    }
   ],
   "source": [
    "'''정적 메소드'''\n",
    "class CustomClass:\n",
    "    # instancemethod\n",
    "    def add_instance_method(self, a, b):\n",
    "        return a+b\n",
    "    \n",
    "    @classmethod\n",
    "    def add_class_method(cls, a, b):\n",
    "        return a+b\n",
    "    \n",
    "    @staticmethod\n",
    "    def add_static_method(a, b):\n",
    "        return a+b\n",
    "\n",
    "CustomClass.add_instance_method(None, 3, 5)\n",
    "CustomClass.add_class_method(3, 5)\n",
    "CustomClass.add_static_method(3, 5)"
   ]
  },
  {
   "cell_type": "markdown",
   "id": "1edb65b1",
   "metadata": {},
   "source": [
    "# 클래스 - 5"
   ]
  },
  {
   "cell_type": "code",
   "execution_count": 83,
   "id": "f504131a",
   "metadata": {},
   "outputs": [
    {
     "name": "stdout",
     "output_type": "stream",
     "text": [
      "국가의 이름은 : 대한민국\n",
      "국가의 수도는?\n",
      "서울\n"
     ]
    }
   ],
   "source": [
    "'''추상클래스'''\n",
    "from abc import *\n",
    "\n",
    "class AbstractCountry(metaclass=ABCMeta):\n",
    "    name = '국가명'\n",
    "    population = '인구'\n",
    "    capital = '수도'\n",
    "    \n",
    "    def show(self):\n",
    "        print('국가 클래스의 메소드입니다.')\n",
    "        \n",
    "    @abstractmethod\n",
    "    def show_capital(self):\n",
    "        print('국가의 수도는?')\n",
    "    \n",
    "class Korea(AbstractCountry):\n",
    "    def __init__(self, name, population, capital):\n",
    "        self.name = name\n",
    "        self.population = population\n",
    "        self.capital = capital\n",
    "        \n",
    "    def show_name(self):\n",
    "        print('국가의 이름은 :', self.name)\n",
    "        \n",
    "    def show_capital(self):\n",
    "        super().show_capital()\n",
    "        print(self.capital)\n",
    "a = Korea('대한민국', '5000만명', '서울')\n",
    "a.show_name()\n",
    "a.show_capital()"
   ]
  }
 ],
 "metadata": {
  "kernelspec": {
   "display_name": "Python 3 (ipykernel)",
   "language": "python",
   "name": "python3"
  },
  "language_info": {
   "codemirror_mode": {
    "name": "ipython",
    "version": 3
   },
   "file_extension": ".py",
   "mimetype": "text/x-python",
   "name": "python",
   "nbconvert_exporter": "python",
   "pygments_lexer": "ipython3",
   "version": "3.9.12"
  }
 },
 "nbformat": 4,
 "nbformat_minor": 5
}
